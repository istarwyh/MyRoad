{
 "cells": [
  {
   "cell_type": "code",
   "execution_count": 13,
   "metadata": {
    "collapsed": true
   },
   "outputs": [
    {
     "data": {
      "text/plain": "<IPython.core.display.Javascript object>",
      "application/javascript": "\n        if (window._pyforest_update_imports_cell) { window._pyforest_update_imports_cell('from sklearn import svm\\nimport tensorflow as tf\\nfrom sklearn.model_selection import cross_val_score\\nfrom pathlib import Path\\nfrom sklearn.preprocessing import OneHotEncoder\\nfrom sklearn.model_selection import GridSearchCV\\nfrom sklearn import metrics\\nimport statistics\\nimport datetime as dt\\nfrom sklearn.impute import SimpleImputer\\nfrom sklearn.preprocessing import PolynomialFeatures\\nimport torch\\nfrom sklearn.model_selection import train_test_split\\nfrom sklearn.decomposition import PCA\\nimport tqdm\\nfrom sklearn.linear_model import LinearRegression\\nimport pickle\\nfrom sklearn.cluster import KMeans\\nfrom sklearn.manifold import TSNE\\nfrom sklearn.ensemble import RandomForestRegressor\\nfrom sklearn.ensemble import RandomForestClassifier\\nimport glob\\nimport os\\nfrom sklearn.feature_extraction.text import CountVectorizer\\nfrom sklearn.ensemble import GradientBoostingClassifier\\nimport sklearn\\nfrom sklearn.preprocessing import StandardScaler\\nfrom sklearn.linear_model import Lasso\\nfrom sklearn.preprocessing import MinMaxScaler\\nfrom sklearn.linear_model import Ridge\\nfrom sklearn.ensemble import GradientBoostingRegressor\\nimport matplotlib.pyplot as plt\\nfrom sklearn.feature_extraction.text import TfidfVectorizer\\nfrom sklearn.linear_model import LogisticRegression\\nfrom scipy import signal as sg\\nimport re\\nfrom sklearn.preprocessing import LabelEncoder\\nfrom PIL import Image\\nimport keras\\nfrom sklearn.model_selection import RandomizedSearchCV\\nfrom sklearn.linear_model import ElasticNetCV\\nfrom sklearn.model_selection import StratifiedKFold\\nimport nltk\\nfrom scipy import stats\\nimport numpy as np\\nfrom sklearn.linear_model import LassoCV\\nimport matplotlib as mpl\\nfrom sklearn.linear_model import ElasticNet\\nfrom sklearn.model_selection import KFold\\nfrom sklearn.preprocessing import RobustScaler\\nfrom sklearn.linear_model import RidgeCV'); }\n    "
     },
     "metadata": {},
     "output_type": "display_data"
    },
    {
     "data": {
      "text/plain": "<IPython.core.display.Javascript object>",
      "application/javascript": "\n        if (window._pyforest_update_imports_cell) { window._pyforest_update_imports_cell('from sklearn import svm\\nimport tensorflow as tf\\nfrom sklearn.model_selection import cross_val_score\\nfrom pathlib import Path\\nfrom sklearn.preprocessing import OneHotEncoder\\nfrom sklearn.model_selection import GridSearchCV\\nfrom sklearn import metrics\\nimport statistics\\nimport datetime as dt\\nfrom sklearn.impute import SimpleImputer\\nfrom sklearn.preprocessing import PolynomialFeatures\\nimport torch\\nfrom sklearn.model_selection import train_test_split\\nfrom sklearn.decomposition import PCA\\nimport tqdm\\nfrom sklearn.linear_model import LinearRegression\\nimport pickle\\nfrom sklearn.cluster import KMeans\\nfrom sklearn.manifold import TSNE\\nfrom sklearn.ensemble import RandomForestRegressor\\nfrom sklearn.ensemble import RandomForestClassifier\\nimport glob\\nimport os\\nfrom sklearn.feature_extraction.text import CountVectorizer\\nfrom sklearn.ensemble import GradientBoostingClassifier\\nimport sklearn\\nfrom sklearn.preprocessing import StandardScaler\\nfrom sklearn.linear_model import Lasso\\nfrom sklearn.preprocessing import MinMaxScaler\\nfrom sklearn.linear_model import Ridge\\nfrom sklearn.ensemble import GradientBoostingRegressor\\nimport matplotlib.pyplot as plt\\nfrom sklearn.feature_extraction.text import TfidfVectorizer\\nfrom sklearn.linear_model import LogisticRegression\\nfrom scipy import signal as sg\\nimport re\\nfrom sklearn.preprocessing import LabelEncoder\\nfrom PIL import Image\\nimport keras\\nfrom sklearn.model_selection import RandomizedSearchCV\\nfrom sklearn.linear_model import ElasticNetCV\\nfrom sklearn.model_selection import StratifiedKFold\\nimport nltk\\nfrom scipy import stats\\nimport numpy as np\\nfrom sklearn.linear_model import LassoCV\\nimport matplotlib as mpl\\nfrom sklearn.linear_model import ElasticNet\\nfrom sklearn.model_selection import KFold\\nfrom sklearn.preprocessing import RobustScaler\\nfrom sklearn.linear_model import RidgeCV'); }\n    "
     },
     "metadata": {},
     "output_type": "display_data"
    },
    {
     "data": {
      "text/plain": "<IPython.core.display.Javascript object>",
      "application/javascript": "\n        if (window._pyforest_update_imports_cell) { window._pyforest_update_imports_cell('from sklearn import svm\\nimport tensorflow as tf\\nfrom sklearn.model_selection import cross_val_score\\nfrom pathlib import Path\\nfrom sklearn.preprocessing import OneHotEncoder\\nfrom sklearn.model_selection import GridSearchCV\\nfrom sklearn import metrics\\nimport statistics\\nimport datetime as dt\\nfrom sklearn.impute import SimpleImputer\\nfrom sklearn.preprocessing import PolynomialFeatures\\nimport torch\\nfrom sklearn.model_selection import train_test_split\\nfrom sklearn.decomposition import PCA\\nimport tqdm\\nfrom sklearn.linear_model import LinearRegression\\nimport pickle\\nfrom sklearn.cluster import KMeans\\nfrom sklearn.manifold import TSNE\\nfrom sklearn.ensemble import RandomForestRegressor\\nfrom sklearn.ensemble import RandomForestClassifier\\nimport glob\\nimport os\\nfrom sklearn.feature_extraction.text import CountVectorizer\\nfrom sklearn.ensemble import GradientBoostingClassifier\\nimport sklearn\\nfrom sklearn.preprocessing import StandardScaler\\nfrom sklearn.linear_model import Lasso\\nfrom sklearn.preprocessing import MinMaxScaler\\nfrom sklearn.linear_model import Ridge\\nfrom sklearn.ensemble import GradientBoostingRegressor\\nimport matplotlib.pyplot as plt\\nfrom sklearn.feature_extraction.text import TfidfVectorizer\\nfrom sklearn.linear_model import LogisticRegression\\nfrom scipy import signal as sg\\nimport re\\nfrom sklearn.preprocessing import LabelEncoder\\nfrom PIL import Image\\nimport keras\\nfrom sklearn.model_selection import RandomizedSearchCV\\nfrom sklearn.linear_model import ElasticNetCV\\nfrom sklearn.model_selection import StratifiedKFold\\nimport nltk\\nfrom scipy import stats\\nimport numpy as np\\nfrom sklearn.linear_model import LassoCV\\nimport matplotlib as mpl\\nfrom sklearn.linear_model import ElasticNet\\nfrom sklearn.model_selection import KFold\\nfrom sklearn.preprocessing import RobustScaler\\nfrom sklearn.linear_model import RidgeCV'); }\n    "
     },
     "metadata": {},
     "output_type": "display_data"
    },
    {
     "name": "stdout",
     "output_type": "stream",
     "text": [
      "   省份  2019  2018  2017\n",
      "0  新疆   500   511   456\n",
      "1  河北    22    23    24\n",
      "2  山东    19    21    20\n"
     ]
    },
    {
     "ename": "ModuleNotFoundError",
     "evalue": "No module named 'seaborn'",
     "output_type": "error",
     "traceback": [
      "\u001B[0;31m---------------------------------------------------------------------------\u001B[0m",
      "\u001B[0;31mModuleNotFoundError\u001B[0m                       Traceback (most recent call last)",
      "Cell \u001B[0;32mIn[13], line 18\u001B[0m\n\u001B[1;32m     15\u001B[0m \u001B[38;5;66;03m# 设定Y轴坐标\u001B[39;00m\n\u001B[1;32m     16\u001B[0m y \u001B[38;5;241m=\u001B[39m \u001B[38;5;28mlist\u001B[39m(\u001B[38;5;28mmap\u001B[39m(\u001B[38;5;28mint\u001B[39m, numbers_list))\n\u001B[0;32m---> 18\u001B[0m \u001B[43msns\u001B[49m\u001B[38;5;241;43m.\u001B[39;49m\u001B[43mbarplot\u001B[49m(x, y)\n\u001B[1;32m     19\u001B[0m plt\u001B[38;5;241m.\u001B[39mtitle(\u001B[38;5;124m'\u001B[39m\u001B[38;5;124m新疆历年棉花产量(万吨)\u001B[39m\u001B[38;5;124m'\u001B[39m)\n\u001B[1;32m     20\u001B[0m plt\u001B[38;5;241m.\u001B[39mshow()\n",
      "File \u001B[0;32m~/Desktop/code-open/cool-backend/venv/lib/python3.11/site-packages/pyforest/_importable.py:70\u001B[0m, in \u001B[0;36mLazyImport.__getattr__\u001B[0;34m(self, attribute)\u001B[0m\n\u001B[1;32m     69\u001B[0m \u001B[38;5;28;01mdef\u001B[39;00m \u001B[38;5;21m__getattr__\u001B[39m(\u001B[38;5;28mself\u001B[39m, attribute):\n\u001B[0;32m---> 70\u001B[0m     \u001B[38;5;28;43mself\u001B[39;49m\u001B[38;5;241;43m.\u001B[39;49m\u001B[43m__maybe_import__\u001B[49m\u001B[43m(\u001B[49m\u001B[43m)\u001B[49m\n\u001B[1;32m     71\u001B[0m     \u001B[38;5;28;01mreturn\u001B[39;00m \u001B[38;5;28meval\u001B[39m(\u001B[38;5;124mf\u001B[39m\u001B[38;5;124m\"\u001B[39m\u001B[38;5;132;01m{\u001B[39;00m\u001B[38;5;28mself\u001B[39m\u001B[38;5;241m.\u001B[39m__imported_name__\u001B[38;5;132;01m}\u001B[39;00m\u001B[38;5;124m.\u001B[39m\u001B[38;5;132;01m{\u001B[39;00mattribute\u001B[38;5;132;01m}\u001B[39;00m\u001B[38;5;124m\"\u001B[39m)\n",
      "File \u001B[0;32m~/Desktop/code-open/cool-backend/venv/lib/python3.11/site-packages/pyforest/_importable.py:37\u001B[0m, in \u001B[0;36mLazyImport.__maybe_import__\u001B[0;34m(self)\u001B[0m\n\u001B[1;32m     35\u001B[0m \u001B[38;5;28;01mdef\u001B[39;00m \u001B[38;5;21m__maybe_import__\u001B[39m(\u001B[38;5;28mself\u001B[39m):\n\u001B[1;32m     36\u001B[0m     \u001B[38;5;28mself\u001B[39m\u001B[38;5;241m.\u001B[39m__maybe_import_complementary_imports__()\n\u001B[0;32m---> 37\u001B[0m     exec(\u001B[38;5;28mself\u001B[39m\u001B[38;5;241m.\u001B[39m__import_statement__, \u001B[38;5;28mglobals\u001B[39m())\n\u001B[1;32m     38\u001B[0m     \u001B[38;5;66;03m# Attention: if the import fails, the next lines will not be reached\u001B[39;00m\n\u001B[1;32m     39\u001B[0m     \u001B[38;5;28mself\u001B[39m\u001B[38;5;241m.\u001B[39m__was_imported__ \u001B[38;5;241m=\u001B[39m \u001B[38;5;28;01mTrue\u001B[39;00m\n",
      "File \u001B[0;32m<string>:1\u001B[0m\n",
      "\u001B[0;31mModuleNotFoundError\u001B[0m: No module named 'seaborn'"
     ]
    }
   ],
   "source": [
    "import pandas as pd\n",
    "from pyforest import plt, sns\n",
    "\n",
    "plt.rcParams['font.family'] = 'sans-serif'\n",
    "# 用来显示中文标签\n",
    "plt.rcParams['font.sans-serif'] = ['Hiragino Sans GB']\n",
    "# 用来正常显示负号\n",
    "plt.rcParams['axes.unicode_minus'] = False\n",
    "\n",
    "data = pd.read_csv('test.csv')\n",
    "print(data)\n",
    "# 设定x轴坐标\n",
    "x = data.columns.values.tolist()[1:]\n",
    "numbers_list = data[data['省份'] == '新疆'].values.tolist()[0][1:]\n",
    "# 设定Y轴坐标\n",
    "y = list(map(int, numbers_list))\n",
    "\n",
    "sns.barplot(x, y)\n",
    "plt.title('新疆历年棉花产量(万吨)')\n",
    "plt.show()"
   ]
  },
  {
   "cell_type": "code",
   "execution_count": null,
   "outputs": [],
   "source": [],
   "metadata": {
    "collapsed": false
   }
  }
 ],
 "metadata": {
  "kernelspec": {
   "display_name": "Python 3",
   "language": "python",
   "name": "python3"
  },
  "language_info": {
   "codemirror_mode": {
    "name": "ipython",
    "version": 2
   },
   "file_extension": ".py",
   "mimetype": "text/x-python",
   "name": "python",
   "nbconvert_exporter": "python",
   "pygments_lexer": "ipython2",
   "version": "2.7.6"
  }
 },
 "nbformat": 4,
 "nbformat_minor": 0
}
