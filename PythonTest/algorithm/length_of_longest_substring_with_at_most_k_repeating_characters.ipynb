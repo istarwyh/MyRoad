{
 "cells": [
  {
   "cell_type": "markdown",
   "source": [
    " [LeetCode2958](https://leetcode.cn/problems/length-of-longest-subarray-with-at-most-k-frequency/)"
   ],
   "metadata": {
    "collapsed": false
   },
   "id": "93374a32aeabcccd"
  },
  {
   "cell_type": "code",
   "outputs": [],
   "source": [
    "from collections import defaultdict\n",
    "from typing import List\n",
    "\n",
    "\n",
    "class FrequencyMap:\n",
    "    def __init__(self):\n",
    "        self.frequency = defaultdict(int)\n",
    "\n",
    "    def add(self, key: int):\n",
    "        self.frequency[key] += 1\n",
    "\n",
    "    def remove(self, key: int):\n",
    "        if self.frequency[key] > 0:\n",
    "            self.frequency[key] -= 1\n",
    "\n",
    "    def get(self, key: int) -> int:\n",
    "        return self.frequency[key]\n",
    "\n",
    "\n",
    "def length_of_longest_good_subarray(nums: List[int], k: int) -> int:\n",
    "    freq_map = FrequencyMap()\n",
    "    left_pointer = 0\n",
    "    max_len = 0\n",
    "    for right_pointer in range(len(nums)):\n",
    "        pointer_ = nums[right_pointer]\n",
    "        freq_map.add(pointer_)\n",
    "        while freq_map.get(pointer_) > k:\n",
    "            freq_map.remove(nums[left_pointer])\n",
    "            left_pointer += 1\n",
    "        max_len = max(max_len, right_pointer - left_pointer + 1)\n",
    "    return max_len\n",
    "\n",
    "assert length_of_longest_good_subarray([5,5,5,5,5,5,5],4) == 4"
   ],
   "metadata": {
    "collapsed": false,
    "ExecuteTime": {
     "end_time": "2024-04-21T09:44:36.519745Z",
     "start_time": "2024-04-21T09:44:36.448294Z"
    }
   },
   "id": "96a1869900ec11e6",
   "execution_count": 6
  },
  {
   "cell_type": "code",
   "outputs": [],
   "source": [],
   "metadata": {
    "collapsed": false
   },
   "id": "2cf29ca56b91f163"
  }
 ],
 "metadata": {
  "kernelspec": {
   "display_name": "Python 3",
   "language": "python",
   "name": "python3"
  },
  "language_info": {
   "codemirror_mode": {
    "name": "ipython",
    "version": 2
   },
   "file_extension": ".py",
   "mimetype": "text/x-python",
   "name": "python",
   "nbconvert_exporter": "python",
   "pygments_lexer": "ipython2",
   "version": "2.7.6"
  }
 },
 "nbformat": 4,
 "nbformat_minor": 5
}
