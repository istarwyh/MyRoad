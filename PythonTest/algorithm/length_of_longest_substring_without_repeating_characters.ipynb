{
 "cells": [
  {
   "cell_type": "markdown",
   "source": [
    "首先，我们会给map数组一个更具描述性的名字，比如lastSeen，这表示字符上次出现的位置。然后，我们将主要的逻辑分割成几个子方法，每个子方法都有其专门的功能。"
   ],
   "metadata": {
    "collapsed": false
   },
   "id": "62dd6111ca2cd01"
  },
  {
   "cell_type": "code",
   "outputs": [],
   "source": [
    "class SimpleASCIIArrayMap:\n",
    "    def __init__(self):\n",
    "        self.array = [-1] * 128\n",
    "    def get(self,key: chr) -> int:\n",
    "        return self.array[ord(key)]\n",
    "    def put(self,key: chr,value: int):\n",
    "        self.array[ord(key)] = value\n",
    "        \n",
    "def length_of_longest_substring_without_repeating_characters(s: str) -> int:\n",
    "    \"\"\" \n",
    "    Finds the length of the longest substring without repeating characters.\n",
    "    \n",
    "    :param s: the input string\n",
    "    :return: the length of the longest substring\n",
    "    \"\"\"\n",
    "    if s is None or len(s) == 0:\n",
    "        return 0\n",
    "    last_seen = SimpleASCIIArrayMap() \n",
    "    left_pointer = 0\n",
    "    max_len = 0\n",
    "\n",
    "    for right_pointer in range(len(s)):\n",
    "        cur_right_chr = s[right_pointer]\n",
    "        left_pointer = max(left_pointer, last_seen.get(cur_right_chr) + 1)\n",
    "        last_seen.put(cur_right_chr,right_pointer)\n",
    "        max_len = max(right_pointer - left_pointer + 1, max_len)\n",
    "\n",
    "    return max_len\n",
    "\n",
    "\n",
    "# Example usage:\n",
    "input_string = \"abcabcbb\"\n",
    "assert length_of_longest_substring_without_repeating_characters(input_string) == 3\n"
   ],
   "metadata": {
    "collapsed": false,
    "ExecuteTime": {
     "end_time": "2024-04-21T04:42:03.371444Z",
     "start_time": "2024-04-21T04:42:03.292055Z"
    }
   },
   "id": "a333be1ad92331e2",
   "execution_count": 13
  }
 ],
 "metadata": {
  "kernelspec": {
   "display_name": "Python 3",
   "language": "python",
   "name": "python3"
  },
  "language_info": {
   "codemirror_mode": {
    "name": "ipython",
    "version": 2
   },
   "file_extension": ".py",
   "mimetype": "text/x-python",
   "name": "python",
   "nbconvert_exporter": "python",
   "pygments_lexer": "ipython2",
   "version": "2.7.6"
  }
 },
 "nbformat": 4,
 "nbformat_minor": 5
}
